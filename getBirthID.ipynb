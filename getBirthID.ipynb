{
 "cells": [
  {
   "cell_type": "code",
   "execution_count": 1,
   "metadata": {},
   "outputs": [],
   "source": [
    "import illustris_python as il\n",
    "import matplotlib.pyplot as plt\n",
    "import numpy as np\n",
    "from matplotlib.colors import SymLogNorm\n",
    "import h5py\n",
    "from tqdm import tqdm\n"
   ]
  },
  {
   "cell_type": "code",
   "execution_count": 2,
   "metadata": {},
   "outputs": [],
   "source": [
    "basePath = 'sims.TNG/TNG100-1/output'\n",
    "snap     = 99\n",
    "halo_ID  = 172650"
   ]
  },
  {
   "cell_type": "code",
   "execution_count": 1,
   "metadata": {},
   "outputs": [
    {
     "name": "stdout",
     "output_type": "stream",
     "text": [
      "examples\t  moreColors.png\t\t  sims.other\n",
      "illustris_idl\t  progenitorID_subhalo172650.txt  sims.TNG\n",
      "illustris_julia   progenitorID_subhalo239993.txt  SubhaloID_stars.txt\n",
      "illustris_matlab  README.txt\n",
      "illustris_python  sims.illustris\n"
     ]
    }
   ],
   "source": [
    "!ls"
   ]
  },
  {
   "cell_type": "code",
   "execution_count": 4,
   "metadata": {},
   "outputs": [
    {
     "name": "stderr",
     "output_type": "stream",
     "text": [
      "100%|██████████| 100/100 [55:35<00:00, 33.36s/it] \n"
     ]
    }
   ],
   "source": [
    "fields = ['Coordinates','ParticleIDs']\n",
    "stars  = il.snapshot.loadSubhalo(basePath,snap, halo_ID, 'stars', fields=fields)\n",
    "tree   = il.sublink.loadTree(basePath, snap, halo_ID, fields=['SubfindID','SnapNum'])\n",
    "\n",
    "starsID = stars['ParticleIDs']\n",
    "\n",
    "numsnap = np.arange(0,99 + 1,1)\n",
    "\n",
    "progenitorID = np.zeros(stars['count']) - 1\n",
    "\n",
    "subhalosID = tree['SubfindID']\n",
    "subhalosSnap  = tree['SnapNum'] \n",
    "# # Iterate on the snapshots\n",
    "for s in tqdm(numsnap, leave=True):\n",
    "\n",
    "    # Iterate on the subhalos in that snapshot ONLY\n",
    "    idx_subhalos  = np.where(subhalosSnap == s)[0]\n",
    "    keep_subhalos = subhalosID[idx_subhalos]\n",
    "\n",
    "    for i in keep_subhalos:\n",
    "\n",
    "        # Load ID of stars in the subhalo\n",
    "        subhalos_starsID = il.snapshot.loadSubhalo(basePath,s, i, 'stars', fields=['ParticleIDs'])\n",
    "\n",
    "        not_already_IDed = np.where(progenitorID == -1)[0]\n",
    "        stars_in = np.isin(starsID[not_already_IDed], subhalos_starsID)\n",
    "\n",
    "        indices = not_already_IDed[stars_in]\n",
    "        progenitorID[indices] = i\n",
    "        \n",
    "np.savetxt(f'progenitorID_subhalo{halo_ID}.txt', progenitorID, fmt='%d')"
   ]
  }
 ],
 "metadata": {
  "kernelspec": {
   "display_name": "Python 3 (ipykernel)",
   "language": "python",
   "name": "python3"
  },
  "language_info": {
   "codemirror_mode": {
    "name": "ipython",
    "version": 3
   },
   "file_extension": ".py",
   "mimetype": "text/x-python",
   "name": "python",
   "nbconvert_exporter": "python",
   "pygments_lexer": "ipython3",
   "version": "3.11.4"
  },
  "orig_nbformat": 4
 },
 "nbformat": 4,
 "nbformat_minor": 2
}
